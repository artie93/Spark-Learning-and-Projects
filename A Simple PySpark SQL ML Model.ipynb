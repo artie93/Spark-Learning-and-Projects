{
 "cells": [
  {
   "cell_type": "code",
   "execution_count": null,
   "id": "a18031a2",
   "metadata": {},
   "outputs": [],
   "source": [
    "# Import the lit function\n",
    "from pyspark.sql.functions import lit\n",
    "\n",
    "# Select the rows where endword is 'him' and label 1\n",
    "df_pos = df.where(\"endword = 'him'\")\\\n",
    "           .withColumn('label', lit(1))\n",
    "\n",
    "# Select the rows where endword is not 'him' and label 0\n",
    "df_neg = df.where(\"endword <> 'him'\")\\\n",
    "           .withColumn('label', lit(0))\n",
    "\n",
    "# Union pos and neg in equal number\n",
    "df_examples = df_pos.union(df_neg.limit(df_pos.count()))\n",
    "print(\"Number of examples: \", df_examples.count())\n",
    "df_examples.where(\"endword <> 'him'\").sample(False, .1, 42).show(5)"
   ]
  },
  {
   "cell_type": "code",
   "execution_count": null,
   "id": "085df06e",
   "metadata": {},
   "outputs": [],
   "source": [
    "# Split the examples into train and test, use 80/20 split\n",
    "df_trainset, df_testset = df_examples.randomSplit((0.8,0.2), 42)\n",
    "\n",
    "# Print the number of training examples\n",
    "print(\"Number training: \", df_trainset.count())\n",
    "\n",
    "# Print the number of test examples\n",
    "print(\"Number test: \", df_testset.count())"
   ]
  },
  {
   "cell_type": "code",
   "execution_count": null,
   "id": "f9fb5d4b",
   "metadata": {},
   "outputs": [],
   "source": [
    "# Import the logistic regression classifier\n",
    "from pyspark.ml.classification import LogisticRegression\n",
    "\n",
    "# Instantiate logistic setting elasticnet to 0.0\n",
    "logistic = LogisticRegression(maxIter=100, regParam=0.4, elasticNetParam=0.0)\n",
    "\n",
    "# Train the logistic classifer on the trainset\n",
    "df_fitted = logistic.fit(df_trainset)\n",
    "\n",
    "# Print the number of training iterations\n",
    "print(\"Training iterations: \", df_fitted.summary.totalIterations)"
   ]
  },
  {
   "cell_type": "code",
   "execution_count": null,
   "id": "c2ce3f9a",
   "metadata": {},
   "outputs": [],
   "source": [
    "# Score the model on test data\n",
    "testSummary = df_fitted.evaluate(df_testset)\n",
    "\n",
    "# Print the AUC metric\n",
    "print(\"\\ntest AUC: %.3f\" % testSummary.areaUnderROC)"
   ]
  },
  {
   "cell_type": "code",
   "execution_count": null,
   "id": "615a8065",
   "metadata": {},
   "outputs": [],
   "source": [
    "# Apply the model to the test data\n",
    "predictions = df_fitted.transform(df_testset).select(fields)\n",
    "\n",
    "# Print incorrect if prediction does not match label\n",
    "for x in predictions.take(8):\n",
    "    print()\n",
    "    if x.label != int(x.prediction):\n",
    "        print(\"INCORRECT ==> \")\n",
    "    for y in fields:\n",
    "        print(y,\":\", x[y])"
   ]
  }
 ],
 "metadata": {
  "kernelspec": {
   "display_name": "Python 3 (ipykernel)",
   "language": "python",
   "name": "python3"
  },
  "language_info": {
   "codemirror_mode": {
    "name": "ipython",
    "version": 3
   },
   "file_extension": ".py",
   "mimetype": "text/x-python",
   "name": "python",
   "nbconvert_exporter": "python",
   "pygments_lexer": "ipython3",
   "version": "3.9.7"
  }
 },
 "nbformat": 4,
 "nbformat_minor": 5
}
